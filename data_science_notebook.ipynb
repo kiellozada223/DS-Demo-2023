{
  "nbformat": 4,
  "nbformat_minor": 0,
  "metadata": {
    "colab": {
      "provenance": [],
      "toc_visible": true,
      "authorship_tag": "ABX9TyOkjTOpliTx76gRWEyyYKDl",
      "include_colab_link": true
    },
    "kernelspec": {
      "name": "python3",
      "display_name": "Python 3"
    },
    "language_info": {
      "name": "python"
    }
  },
  "cells": [
    {
      "cell_type": "markdown",
      "metadata": {
        "id": "view-in-github",
        "colab_type": "text"
      },
      "source": [
        "<a href=\"https://colab.research.google.com/github/kiellozada223/DS-Demo-2023/blob/main/data_science_notebook.ipynb\" target=\"_parent\"><img src=\"https://colab.research.google.com/assets/colab-badge.svg\" alt=\"Open In Colab\"/></a>"
      ]
    },
    {
      "cell_type": "markdown",
      "source": [
        "# Ingest"
      ],
      "metadata": {
        "id": "9M3QPJVB0_c8"
      }
    },
    {
      "cell_type": "code",
      "source": [],
      "metadata": {
        "id": "N7gYTO7b1FrX"
      },
      "execution_count": null,
      "outputs": []
    },
    {
      "cell_type": "markdown",
      "source": [
        "# EDA"
      ],
      "metadata": {
        "id": "ozbQ5pXR1MRm"
      }
    },
    {
      "cell_type": "code",
      "source": [],
      "metadata": {
        "id": "untN7FaO1N0e"
      },
      "execution_count": null,
      "outputs": []
    },
    {
      "cell_type": "markdown",
      "source": [
        "# Modeling"
      ],
      "metadata": {
        "id": "x0j9R8e71OUB"
      }
    },
    {
      "cell_type": "markdown",
      "source": [
        "### Classification Algorithm A"
      ],
      "metadata": {
        "id": "wayIqwOl1Xsy"
      }
    },
    {
      "cell_type": "code",
      "source": [],
      "metadata": {
        "id": "dzaaeVWu1QKO"
      },
      "execution_count": null,
      "outputs": []
    },
    {
      "cell_type": "markdown",
      "source": [
        "### Classification Algorithm B"
      ],
      "metadata": {
        "id": "c_TDlJOp1cmd"
      }
    },
    {
      "cell_type": "code",
      "source": [],
      "metadata": {
        "id": "4ucMDPbm1g9J"
      },
      "execution_count": null,
      "outputs": []
    },
    {
      "cell_type": "markdown",
      "source": [
        "# Conclusion"
      ],
      "metadata": {
        "id": "exD9bwT91Q0v"
      }
    },
    {
      "cell_type": "code",
      "source": [],
      "metadata": {
        "id": "CNsqsqKA1SOO"
      },
      "execution_count": null,
      "outputs": []
    }
  ]
}